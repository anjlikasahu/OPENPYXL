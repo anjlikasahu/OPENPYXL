{
 "cells": [
  {
   "cell_type": "code",
   "execution_count": 1,
   "metadata": {},
   "outputs": [
    {
     "name": "stdout",
     "output_type": "stream",
     "text": [
      "Requirement already satisfied: openpyxl in c:\\users\\anjlika sahu\\anaconda3\\lib\\site-packages (3.0.3)\n",
      "Requirement already satisfied: jdcal in c:\\users\\anjlika sahu\\anaconda3\\lib\\site-packages (from openpyxl) (1.4.1)\n",
      "Requirement already satisfied: et-xmlfile in c:\\users\\anjlika sahu\\anaconda3\\lib\\site-packages (from openpyxl) (1.0.1)\n"
     ]
    }
   ],
   "source": [
    "!pip install openpyxl"
   ]
  },
  {
   "cell_type": "code",
   "execution_count": 2,
   "metadata": {},
   "outputs": [],
   "source": [
    "import openpyxl"
   ]
  },
  {
   "cell_type": "code",
   "execution_count": 18,
   "metadata": {},
   "outputs": [],
   "source": [
    "wb_obj = openpyxl.load_workbook(\"sample.xlsx\")\n",
    "sheet_obj = wb_obj.active\n",
    "loc = r\"C:\\Users\\Anjlika Sahu\\OneDrive\\Desktop\\TECH\\SARCI\\Task1\\abc.xlsx\"\n",
    "columns=list() #for getting all the column names in one list\n",
    "row_data = list() #for getting all the row data onr by one\n",
    "final = list() #appending the row_data list content int the final matrix"
   ]
  },
  {
   "cell_type": "code",
   "execution_count": 26,
   "metadata": {},
   "outputs": [
    {
     "data": {
      "text/plain": [
       "'A1'"
      ]
     },
     "execution_count": 26,
     "metadata": {},
     "output_type": "execute_result"
    }
   ],
   "source": [
    "#total number of rows in the sheet\n",
    "#print(sheet_obj.max_row)\n"
   ]
  },
  {
   "cell_type": "code",
   "execution_count": 48,
   "metadata": {},
   "outputs": [
    {
     "name": "stdout",
     "output_type": "stream",
     "text": [
      "14\n"
     ]
    }
   ],
   "source": [
    "#total number of columns int the sheet\n",
    "print(sheet_obj.max_column)"
   ]
  },
  {
   "cell_type": "code",
   "execution_count": 20,
   "metadata": {},
   "outputs": [],
   "source": [
    "#row 1 has all the column names so appending all the names one by one into the \"column\" list\n",
    "max_column = sheet_obj.max_column\n",
    "for i in range(1, max_column+1):\n",
    "    cell_obj = sheet_obj.cell(row=1, column=i)\n",
    "    columns.append(cell_obj.value)"
   ]
  },
  {
   "cell_type": "code",
   "execution_count": 22,
   "metadata": {
    "scrolled": true
   },
   "outputs": [],
   "source": [
    "max_col = sheet_obj.max_column #max_column = total number of columns\n",
    "max_row=sheet_obj.max_row #max_row = total number of rows\n",
    "for i in range(2, max_row+1):\n",
    "    for j in range(1, max_col+1):\n",
    "        cell_obj2 = sheet_obj.cell(row=i, column=j)\n",
    "        row_data.append(cell_obj2.value)\n",
    "    final.append(row_data)\n",
    "    row_data=list()\n"
   ]
  },
  {
   "cell_type": "code",
   "execution_count": 36,
   "metadata": {},
   "outputs": [
    {
     "data": {
      "text/plain": [
       "'A1:N324'"
      ]
     },
     "execution_count": 36,
     "metadata": {},
     "output_type": "execute_result"
    }
   ],
   "source": [
    "cell_first= 'A1' #coordinates of the first cell \n",
    "cell_last= sheet_obj.cell(row=i, column=j) #cell_last points to the last cell\n",
    "REF = cell_first + ':' + cell_last.coordinate #cell_last.coordinate gives the name of the last cell"
   ]
  },
  {
   "cell_type": "code",
   "execution_count": 51,
   "metadata": {},
   "outputs": [],
   "source": [
    "from openpyxl import Workbook\n",
    "from openpyxl.worksheet.table import Table, TableStyleInfo\n",
    "\n",
    "wb = Workbook()\n",
    "ws = wb.active\n",
    "ws.append(columns)\n",
    "\n",
    "for row in final:\n",
    "    ws.append(row) #appending the data extracted int the \"final\" list to workbook. \n",
    "    \n",
    "tab = Table(displayName = 'Table1' , ref = REF)\n",
    "style = TableStyleInfo(name = \"TableStyleMedium8\", showRowStripes = True, showColumnStripes = True)\n",
    "tab.tableStyleInfo = style\n",
    "ws.add_table(tab) \n",
    "wb.save(loc)"
   ]
  },
  {
   "cell_type": "code",
   "execution_count": null,
   "metadata": {},
   "outputs": [],
   "source": []
  }
 ],
 "metadata": {
  "kernelspec": {
   "display_name": "Python 3",
   "language": "python",
   "name": "python3"
  },
  "language_info": {
   "codemirror_mode": {
    "name": "ipython",
    "version": 3
   },
   "file_extension": ".py",
   "mimetype": "text/x-python",
   "name": "python",
   "nbconvert_exporter": "python",
   "pygments_lexer": "ipython3",
   "version": "3.6.10"
  }
 },
 "nbformat": 4,
 "nbformat_minor": 4
}
