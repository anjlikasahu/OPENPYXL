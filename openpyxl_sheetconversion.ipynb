{
 "cells": [
  {
   "cell_type": "code",
   "execution_count": 56,
   "metadata": {},
   "outputs": [
    {
     "name": "stdout",
     "output_type": "stream",
     "text": [
      "Requirement already satisfied: openpyxl in c:\\users\\anjlika sahu\\anaconda3\\lib\\site-packages (3.0.3)\n",
      "Requirement already satisfied: et-xmlfile in c:\\users\\anjlika sahu\\anaconda3\\lib\\site-packages (from openpyxl) (1.0.1)\n",
      "Requirement already satisfied: jdcal in c:\\users\\anjlika sahu\\anaconda3\\lib\\site-packages (from openpyxl) (1.4.1)\n"
     ]
    },
    {
     "name": "stderr",
     "output_type": "stream",
     "text": [
      "WARNING: No metadata found in c:\\users\\anjlika sahu\\anaconda3\\lib\\site-packages\n"
     ]
    }
   ],
   "source": [
    "!pip install openpyxl"
   ]
  },
  {
   "cell_type": "code",
   "execution_count": 57,
   "metadata": {},
   "outputs": [],
   "source": [
    "import openpyxl"
   ]
  },
  {
   "cell_type": "code",
   "execution_count": 58,
   "metadata": {},
   "outputs": [],
   "source": [
    "wb_obj = openpyxl.load_workbook(\"sample.xlsx\")\n",
    "sheet_obj = wb_obj.active\n",
    "cell_obj = sheet_obj.cell(row=1, column=1)\n"
   ]
  },
  {
   "cell_type": "code",
   "execution_count": 59,
   "metadata": {},
   "outputs": [
    {
     "name": "stdout",
     "output_type": "stream",
     "text": [
      "324\n"
     ]
    }
   ],
   "source": [
    "print(sheet_obj.max_row)"
   ]
  },
  {
   "cell_type": "code",
   "execution_count": 60,
   "metadata": {},
   "outputs": [
    {
     "name": "stdout",
     "output_type": "stream",
     "text": [
      "14\n"
     ]
    }
   ],
   "source": [
    "print(sheet_obj.max_column)"
   ]
  },
  {
   "cell_type": "code",
   "execution_count": 61,
   "metadata": {},
   "outputs": [],
   "source": [
    "columns=list()\n",
    "max_column = sheet_obj.max_column\n",
    "for i in range(1, max_column+1):\n",
    "    cell_obj = sheet_obj.cell(row=1, column=i)\n",
    "    columns.append(cell_obj.value)"
   ]
  },
  {
   "cell_type": "code",
   "execution_count": 62,
   "metadata": {},
   "outputs": [
    {
     "data": {
      "text/plain": [
       "['Level   ',\n",
       " 'Position',\n",
       " '            Customer Part Number            ',\n",
       " '  Description           ',\n",
       " 'Ware-house',\n",
       " 'Revision  ',\n",
       " 'Effect.Date',\n",
       " ' Expiry Date',\n",
       " '            Locations            ',\n",
       " 'Location Qty ',\n",
       " 'Scrap [%]',\n",
       " ' Scrap Quantity  ',\n",
       " 'Inv Unt',\n",
       " ' Net Quantity']"
      ]
     },
     "execution_count": 62,
     "metadata": {},
     "output_type": "execute_result"
    }
   ],
   "source": [
    "columns"
   ]
  },
  {
   "cell_type": "code",
   "execution_count": 63,
   "metadata": {
    "scrolled": true
   },
   "outputs": [],
   "source": [
    "row_data=list()\n",
    "final=list()\n",
    "max_col = sheet_obj.max_column\n",
    "max_row=sheet_obj.max_row\n",
    "for i in range(2, max_row+1):\n",
    "    for j in range(1, max_col+1):\n",
    "        cell_obj2 = sheet_obj.cell(row=i, column=j)\n",
    "        row_data.append(cell_obj2.value)\n",
    "    final.append(row_data)\n",
    "    row_data=list()\n"
   ]
  },
  {
   "cell_type": "code",
   "execution_count": 64,
   "metadata": {},
   "outputs": [],
   "source": [
    "cell_first= 'A1'\n",
    "cell_last= chr(j+64) + str(i)\n",
    "REF = cell_first + ':' + cell_last"
   ]
  },
  {
   "cell_type": "code",
   "execution_count": 67,
   "metadata": {},
   "outputs": [],
   "source": [
    "from openpyxl import Workbook\n",
    "from openpyxl.worksheet.table import Table, TableStyleInfo\n",
    "\n",
    "wb = Workbook()\n",
    "ws = wb.active\n",
    "ws.append(columns)\n",
    "\n",
    "for row in final:\n",
    "    ws.append(row)\n",
    "    \n",
    "tab = Table(displayName=\"Table1\", ref=REF)\n",
    "style = TableStyleInfo(name=\"TableStyleMedium9\", showFirstColumn=False,\n",
    "                       showLastColumn=False, showRowStripes=True, showColumnStripes=True)\n",
    "tab.tableStyleInfo = style\n",
    "ws.add_table(tab)\n",
    "wb.save(\"sample_table.xlsx\")"
   ]
  },
  {
   "cell_type": "code",
   "execution_count": null,
   "metadata": {},
   "outputs": [],
   "source": []
  }
 ],
 "metadata": {
  "kernelspec": {
   "display_name": "Python 3",
   "language": "python",
   "name": "python3"
  },
  "language_info": {
   "codemirror_mode": {
    "name": "ipython",
    "version": 3
   },
   "file_extension": ".py",
   "mimetype": "text/x-python",
   "name": "python",
   "nbconvert_exporter": "python",
   "pygments_lexer": "ipython3",
   "version": "3.6.10"
  }
 },
 "nbformat": 4,
 "nbformat_minor": 4
}
